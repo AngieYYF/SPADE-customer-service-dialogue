{
 "cells": [
  {
   "cell_type": "markdown",
   "metadata": {},
   "source": [
    "### Example for Full-Human dialogue with goal"
   ]
  },
  {
   "cell_type": "markdown",
   "metadata": {},
   "source": [
    "| **Components** | **Prompt** |\n",
    "|----------------|------------|\n",
    "| **Goal** | The user is looking for a place to stay. The hotel should be in the cheap price range and should be in the type of hotel. The hotel should include free parking and should include free wifi. Once the user finds the hotel, the user wants to book it for 6 people and 3 nights starting from Tuesday. If the booking fails, how about 2 nights? Make sure the user gets the reference number. |\n",
    "| **Chat History** | **user:** am looking for a place to stay that has a cheap price range; it should be in a type of hotel. <br> **system:** Okay, do you have a specific area you want to stay in? <br> **user:** no, I just need to make sure it's cheap. oh, and I need parking. <br> **system:** I found 1 cheap hotel for you that includes parking. Do you like me to book it? |"
   ]
  },
  {
   "cell_type": "markdown",
   "metadata": {},
   "source": [
    "### Llama 70B missing sentence completion prompt example"
   ]
  },
  {
   "cell_type": "markdown",
   "metadata": {},
   "source": [
    "| **Components** | **Prompt** |\n",
    "|----------------|------------|\n",
    "| **Task** | Task: Replace each of the \"[missing sentence]\" in the dialogue. |\n",
    "| **Slot and Domain Knowledge** | \"internet\": { \"description\": \"whether the hotel has internet\", \"is_categorical\": true, \"possible_values\": [\"free\", \"no\", \"yes\"] } <br> \"parking\": { \"description\": \"whether the hotel has parking\", \"is_categorical\": true, \"possible_values\": [\"free\", \"no\", \"yes\"] } <br> \"area\": { \"description\": \"area or place of the hotel\", \"is_categorical\": true, \"possible_values\": [\"centre\", \"east\", \"north\", \"south\", \"west\"] } <br> \"stars\": { \"description\": \"star rating of the hotel\", \"is_categorical\": true, \"possible_values\": [\"0\", \"1\", \"2\", \"3\", \"4\", \"5\"] } <br> \"price range\": { \"description\": \"price budget of the hotel\", \"is_categorical\": true, \"possible_values\": [\"expensive\", \"cheap\", \"moderate\"] } <br> \"type\": { \"description\": \"what is the type of the hotel\", \"is_categorical\": true, \"possible_values\": [\"guesthouse\", \"hotel\"] } <br> \"name\": { \"description\": \"name of the hotel\", \"is_categorical\": false, \"possible_values\": [] } <br> \"book people\": { \"description\": \"number of people for the hotel booking\", \"is_categorical\": false, \"possible_values\": [] } <br> \"book stay\": { \"description\": \"length of stay at the hotel\", \"is_categorical\": false, \"possible_values\": [] } <br> \"book day\": { \"description\": \"day of the hotel booking\", \"is_categorical\": true, \"possible_values\": [\"monday\", \"tuesday\", \"wednesday\", \"thursday\", \"friday\", \"saturday\", \"sunday\"] } <br> \"phone\": { \"description\": \"phone number of the hotel\", \"is_categorical\": false, \"possible_values\": [] } <br> \"postcode\": { \"description\": \"postcode of the hotel\", \"is_categorical\": false, \"possible_values\": [] } <br> \"address\": { \"description\": \"address of the hotel\", \"is_categorical\": false, \"possible_values\": [] } <br> \"ref\": { \"description\": \"reference number of the hotel booking\", \"is_categorical\": false, \"possible_values\": [] } <br> \"choice\": { \"description\": \"number of hotels that meet the requirement\", \"is_categorical\": false, \"possible_values\": [] } |\n",
    "| **Chain of Thought** | For each missing sentence, your response should be in the format of: <br> turn_id <br> - impact of immediately preceding user sentence <br> - impact of immediately following user sentence (note that the real system only has knowledge up to the missing sentence) <br> - impact of overall previous and following context <br> - one line replacing the missing sentence <br> After all, print the completed entire dialogue. <br> Here is a demonstration of the task where the response is bounded by ==========: |\n",
    "| **Example Dialogue** | **user:** I'm looking for a hotel to stay at in the centre, can you look this up for me? <br> **system:** [missing sentence] <br> **user:** Not in terms of that, but do they have free parking and have a 3-star rating? <br> **system:** [missing sentence] <br> **user:** Okay, I'd like to book a room at the Gonville Hotel for 4 nights. There will be 6 people, and we will be arriving on Saturday. <br> **system:** [missing sentence] <br> **user:** Yes, what about 2 nights instead of 4? <br> **system:** [missing sentence] <br> **user:** No, that looks like everything. Thanks. Bye. <br> **system:** [missing sentence] <br> ========== <br> **1.** <br> - The user asks the system to look up a hotel in the centre; the system should respond to this query. <br> - \"Not in terms of that\" seems to be responding to the system's suggestion which the user does not care about (e.g., price range, free wifi that are not required by the user anywhere in the dialogue). The user asks if \"they\" have free parking and a 3-star rating, which means the system should provide some hotel suggestions, but NOT parking and star information! <br> - Later in the chat, the user mentioned Gonville Hotel, which the system has likely suggested to them. If suggesting particular hotels, it is likely one of them. <br> - There are three hotels in the center of town. Do you prefer something moderate or expensive? <br> **2.** <br> - The user asked if the suggested hotels have free parking and are 3-star, which the system must respond to. <br> - The user replies \"okay\" to the system's suggestion and provided details of their booking at Gonville Hotel. The system has likely suggested Gonville Hotel and asked if the user wishes to make a booking. <br> - NA <br> - The Gonville Hotel has 3 stars and parking, and the University Arms Hotel has 4 stars and parking. They are both expensive. Would you like more details? <br> **3.** <br> - Booking details at a particular hotel have been provided by the user; the system can attempt to make a booking. <br> - The user says 'yes' to the system and then shortens the stay to 2 nights. This means the system was potentially unable to make a booking as initially required and suggested shortening the days. <br> - Book day, book stay, and book people must be provided to make a booking. In case of a failed booking, the system can suggest changing the length or time of stay, suggest another hotel that satisfies all requirements, or ask the user to relax a previously stated requirement (in this case, 3-star, free parking, area). <br> - I'm sorry, there are no rooms available for that length of stay. Could you shorten your stay or book a different day possibly? <br> **4.** <br> - The user agreed to shorten the stay. <br> - The user says 'no' to the system and claims that they are all set and ended the conversation. The system has likely successfully made a booking and asked if the user needs anything else. <br> - NA <br> - Sure, that worked. You have booked 2 nights, and your reference number is RU89U6V8. Can I be of further help today? <br> **5.** <br> - The user expressed appreciation and ended the conversation. <br> - No more user sentences. <br> - The user has ended the conversation. The system should end the conversation. <br> - You're welcome. Enjoy your stay! <br> **Completed Dialogue:** <br> **user:** I'm looking for a hotel to stay at in the centre, can you look this up for me? <br> **system:** There are three hotels in the center of town. Do you prefer something moderate or expensive? <br> **user:** Not in terms of that, but do they have free parking and have a 3-star rating? <br> **system:** The Gonville Hotel has 3 stars and parking, and the University Arms Hotel has 4 stars and parking. They are both expensive. Would you like more details? <br> **user:** Okay, I'd like to book a room at the Gonville Hotel for 4 nights. There will be 6 people, and we will be arriving on Saturday. <br> **system:** I'm sorry, there are no rooms available for that length of stay. Could you shorten your stay or book a different day possibly? <br> **user:** Yes, what about 2 nights instead of 4? <br> **system:** Sure, that worked. You have booked 2 nights, and your reference number is RU89U6V8. Can I be of further help today? <br> **user:** No, that looks like everything. Thanks. Bye. <br> **system:** You're welcome. Enjoy your stay! <br> ========== |\n",
    "| **Chat History** | Here is the dialogue of your task: <br> **user:** am looking for a place to stay that has a cheap price range; it should be in a type of hotel. <br> **System:** [missing sentence] <br> **user:** no, I just need to make sure it's cheap. oh, and I need parking. <br> **System:** [missing sentence] |"
   ]
  },
  {
   "cell_type": "markdown",
   "metadata": {},
   "source": [
    "### GPT3.5 missing sentence completion prompt example"
   ]
  },
  {
   "cell_type": "markdown",
   "metadata": {},
   "source": [
    "| **Components** | **Prompt** |\n",
    "|----------------|------------|\n",
    "| **Goal** | goal: The user is looking for a place to stay. The hotel should be in the cheap price range and should be in the type of hotel. The hotel should include free parking and should include free wifi. Once the user find the hotel the user want to book it for 6 people and 3 nights starting from tuesday. If the booking fails how about 2 nights. Make sure the uer get the reference number.  |\n",
    "| **Chat History** | dialogue: <br> **user**: am looking for a place to to stay that has cheap price range it should be in a type of hotel.  <br> **System**: [missing sentence]  <br> **user**: no, i just need to make sure it's cheap. oh, and i need parking.  <br> **System**: [missing sentence]  |\n",
    "| **Task** | Replace all the \"[missing sentence]\" in the dialogue. please output the entire dialogue. |"
   ]
  },
  {
   "cell_type": "markdown",
   "metadata": {},
   "source": [
    "### Next Response Generation prompt example"
   ]
  },
  {
   "cell_type": "markdown",
   "metadata": {},
   "source": [
    "| **Components** | **Prompt** |\n",
    "|----------------|------------|\n",
    "| **Task** | Task: Generate the next user response according to the given goal and chat history. Your response must start with 'user:'! |\n",
    "| **Goal** | Goal: The user is looking for a place to stay. The hotel should be in the cheap price range and should be in the type of hotel. The hotel should include free parking and should include free wifi. Once the user find the hotel the user want to book it for 6 people and 3 nights starting from tuesday. If the booking fails how about 2 nights. Make sure the uer get the reference number. |\n",
    "| **Chat History** | Chat history: <br> **user**: am looking for a place to to stay that has cheap price range it should be in a type of hotel. <br> **system**: Okay, do you have a specific area you want to stay in? <br> **user**: no, i just need to make sure it's cheap. oh, and i need parking.<br> **system**: I found 1 cheap hotel for you that includes parking. Do you like me to book it? |"
   ]
  },
  {
   "cell_type": "markdown",
   "metadata": {},
   "source": [
    "### par. prompt example"
   ]
  },
  {
   "cell_type": "markdown",
   "metadata": {},
   "source": [
    "| **Stages** | **Components** | **Prompt** |\n",
    "|------------|----------------|------------|\n",
    "| **Stage 1** | **Task Summary** | A customer and a server line assistant are in dialogue. Replace each existing system response with a response you would have said if you were the system. Ensure the new responses logically follow the preceding dialogue and lead naturally into the unchanged user responses. The output should remain the same format as the dialogue! |\n",
    "| | **Dialogue** | user: am looking for a place to to stay that has cheap price range it should be in a type of hotel. <br> system: Okay, do you have a specific area you want to stay in?  <br> user: no, i just need to make sure it's cheap. oh, and i need parking. <br> system: I found 1 cheap hotel for you that includes parking. Do you like me to book it?  |\n",
    "| **Stage 2** | **Dialogue** | here is the chat history:<br> user: am looking for a place to to stay that has cheap price range it should be in a type of hotel. <br> system: Sure thing! Are you looking for a specific area or just anywhere with affordable prices? <br> user: no, i just need to make sure it's cheap. oh, and i need parking. <br> system: I've found a hotel that fits your criteria - it's budget-friendly and offers parking. Would you like me to proceed with the booking? |\n",
    "| | **Task Summary** | please rewrite each sentence starting with 'user:'. do not copy and paste, you should rephrase it! you should add the exactly unchanged system response to form the output. |"
   ]
  },
  {
   "cell_type": "markdown",
   "metadata": {},
   "source": [
    "### G2D prompt example"
   ]
  },
  {
   "cell_type": "markdown",
   "metadata": {},
   "source": [
    "| **Components** | **Prompt** |\n",
    "|----------------|------------|\n",
    "| **Task Summary** | Task: Create a dialogue between a user and a system. |\n",
    "| **Example Dialogue** | **user:** Hello, I'm looking for a guesthouse on the westside to stay. <br> **system:** I am sorry I have no guest houses in the west. Can I look one up in another area for you? <br> **user:** Are there any other places like that that also have free parking and free wifi in that area? <br> **system:** I have found one that is cheap with 4 stars, and one that is moderately priced with 3 stars? Do either of those sound appealing to you? <br> **user:** The cheap one with the better rating sounds appealing. <br> **system:** Great! That's Finches Bed and Breakfast. It's located at 144 Thornton Road cb30nd. Would you like to book a stay? <br> **user:** Please book it for Friday, thank you. <br> **system:** Can you please tell me how many people will be staying and for how many nights? <br> **user:** Yes, 3 people for 5 nights starting on Monday. <br> **system:** Booking was unsuccessful. Want to try another hotel? <br> **user:** Yes, in the same price range please. <br> **system:** Worth House in the North is 4 stars and cheap. Would you like to try it? <br> **user:** The amount of stars does not matter as long as it is in the same price range. Does Worth House in the North include free parking and internet? <br> **system:** Okay well I was able to book you at The Worth House and your reference number is 86XVFEUY. <br> **user:** Thanks, that's all I need. Have a nice day. <br> **system:** You are welcome. Also for your reference, the Worth House does have free parking and wifi. May I help you with anything else? <br> **user:** No thanks. Thanks again for your help. <br> **system:** Enjoy your stay! |\n",
    "| **Goal-Specific Instructions for User** | For the dialogue that you have to generate in this section, the instructions for the \"user\" are the following: The user is looking for a place to stay. The hotel should be in the cheap price range and should be in the type of hotel. The hotel should include free parking and should include free wifi. Once the user finds the hotel, the user wants to book it for 6 people and 3 nights starting from Tuesday. If the booking fails, how about 2 nights? Make sure the user gets the reference number. Every user message should be followed by a system message. Be polite and don’t forget to say goodbye. |\n",
    "| **Slot and Domain Knowledge for System** | For the dialogue that you have to generate in this section, the instructions for the \"system\" are the following: <br> \"internet\": { \"description\": \"whether the hotel has internet\", \"is_categorical\": true, \"possible_values\": [\"free\", \"no\", \"yes\"] } <br> \"parking\": { \"description\": \"whether the hotel has parking\", \"is_categorical\": true, \"possible_values\": [\"free\", \"no\", \"yes\"] } <br> \"area\": { \"description\": \"area or place of the hotel\", \"is_categorical\": true, \"possible_values\": [\"centre\", \"east\", \"north\", \"south\", \"west\"] } <br> \"stars\": { \"description\": \"star rating of the hotel\", \"is_categorical\": true, \"possible_values\": [\"0\", \"1\", \"2\", \"3\", \"4\", \"5\"] } <br> \"price range\": { \"description\": \"price budget of the hotel\", \"is_categorical\": true, \"possible_values\": [\"expensive\", \"cheap\", \"moderate\"] } <br> \"type\": { \"description\": \"what is the type of the hotel\", \"is_categorical\": true, \"possible_values\": [\"guesthouse\", \"hotel\"] } <br> \"name\": { \"description\": \"name of the hotel\", \"is_categorical\": false, \"possible_values\": [] } <br> \"book people\": { \"description\": \"number of people for the hotel booking\", \"is_categorical\": false, \"possible_values\": [] } <br> \"book stay\": { \"description\": \"length of stay at the hotel\", \"is_categorical\": false, \"possible_values\": [] } <br> \"book day\": { \"description\": \"day of the hotel booking\", \"is_categorical\": true, \"possible_values\": [\"monday\", \"tuesday\", \"wednesday\", \"thursday\", \"friday\", \"saturday\", \"sunday\"] } <br> \"phone\": { \"description\": \"phone number of the hotel\", \"is_categorical\": false, \"possible_values\": [] } <br> \"postcode\": { \"description\": \"postcode of the hotel\", \"is_categorical\": false, \"possible_values\": [] } <br> \"address\": { \"description\": \"address of the hotel\", \"is_categorical\": false, \"possible_values\": [] } <br> \"ref\": { \"description\": \"reference number of the hotel booking\", \"is_categorical\": false, \"possible_values\": [] } <br> \"choice\": { \"description\": \"number of hotels that meet the requirement\", \"is_categorical\": false, \"possible_values\": [] } <br> Domain of knowledge needed (include everything is not mandatory): (parking, area, star rating, price range, type of hotel, name of hotel, book people number, length of stay, book day, phone number, postcode, address of hotel, reference number, number of hotels that meet the requirement). |\n",
    "| **Conversation Termination Conditions** | Please generate a dialogue according to the instructions. If you achieve your goal, express your thanks and generate **[END]** token. If you think the assistant cannot help you or the conversation falls into an infinite loop, generate **[STOP]** token. |\n",
    "| **Sensitive Information Masking** | Please mask the following information in the generated dialogue: (name of hotel as [hotel name], phone number as [phone number], postcode as [postcode], address of hotel as [address], reference number as [ref]). |"
   ]
  },
  {
   "cell_type": "markdown",
   "metadata": {},
   "source": [
    "### E2E Convo. GPT3.5 user prompt example"
   ]
  },
  {
   "cell_type": "markdown",
   "metadata": {},
   "source": [
    "| **Components** | **Prompt** |\n",
    "|----------------|------------|\n",
    "| **Task Summary** | Task: Act as a user communicating with a system. |\n",
    "| **Example Dialogue** | **user:** Hello, I'm looking for a guesthouse on the westside to stay. <br> **system:** I am sorry I have no guest houses in the west. Can I look one up in another area for you? <br> **user:** Are there any other places like that that also have free parking and free wifi in that area? <br> **system:** I have found one that is cheap with 4 stars, and one that is moderately priced with 3 stars? Do either of those sound appealing to you? <br> **user:** The cheap one with the better rating sounds appealing. <br> **system:** Great! That's Finches Bed and Breakfast. It's located at 144 Thornton Road cb30nd. Would you like to book a stay? <br> **user:** Please book it for Friday, thank you. <br> **system:** Can you please tell me how many people will be staying and for how many nights? <br> **user:** Yes, 3 people for 5 nights starting on Monday. <br> **system:** Booking was unsuccessful. Want to try another hotel? <br> **user:** Yes, in the same price range please. <br> **system:** Worth House in the North is 4 stars and cheap. Would you like to try it? <br> **user:** The amount of stars does not matter as long as it is in the same price range. Does Worth House in the North include free parking and internet? <br> **system:** Okay well I was able to book you at The Worth House and your reference number is 86XVFEUY. <br> **user:** Thanks, that's all I need. Have a nice day. <br> **system:** You are welcome. Also for your reference, the Worth House does have free parking and wifi. May I help you with anything else? <br> **user:** No thanks. Thanks again for your help. <br> **system:** Enjoy your stay! |\n",
    "| **Role-Specific Instructions (User)** | For the dialogue that you have to generate in this section, the instructions for the \"user\" are the following: The user is looking for a place to stay. The hotel should be in the cheap price range and should be in the type of hotel. The hotel should include free parking and should include free wifi. Once the user finds the hotel, the user wants to book it for 6 people and 3 nights starting from Tuesday. If the booking fails, how about 2 nights? Make sure the user gets the reference number. Every user message should be followed by a system message. Be polite and don’t forget to say goodbye. |\n",
    "| **Role-Specific Instructions (System)** | I will be the system. |\n",
    "| **Conversation Termination Conditions** | Please generate a dialogue according to the goal. If you achieve your goal (booking successful or find the hotel), express your thanks and generate **[END]** token. If you think the assistant cannot help you or the conversation falls into an infinite loop, generate **[STOP]** token. |\n",
    "| **Sensitive Information Masking** | Please mask the following information in the generated dialogue: (name of hotel as [hotel name], phone number as [phone number], postcode as [postcode], address of hotel as [address], reference number as [ref]). The output user response should be in the format of \"user:...\". It should be only one sentence. |"
   ]
  },
  {
   "cell_type": "markdown",
   "metadata": {},
   "source": [
    "### E2E Convo. GPT3.5 system prompt example"
   ]
  },
  {
   "cell_type": "markdown",
   "metadata": {},
   "source": [
    "| **Components** | **Prompt** |\n",
    "|----------------|------------|\n",
    "| **Task Summary** | Task: Act as a system communicating with a user. |\n",
    "| **Example Dialogue** | **user:** Hello, I'm looking for a guesthouse on the westside to stay. <br> **system:** I am sorry I have no guest houses in the west. Can I look one up in another area for you? <br> **user:** Are there any other places like that that also have free parking and free wifi in that area? <br> **system:** I have found one that is cheap with 4 stars, and one that is moderately priced with 3 stars? Do either of those sound appealing to you? <br> **user:** The cheap one with the better rating sounds appealing. <br> **system:** Great! That's Finches Bed and Breakfast. It's located at 144 Thornton Road cb30nd. Would you like to book a stay? <br> **user:** Please book it for Friday, thank you. <br> **system:** Can you please tell me how many people will be staying and for how many nights? <br> **user:** Yes, 3 people for 5 nights starting on Monday. <br> **system:** Booking was unsuccessful. Want to try another hotel? <br> **user:** Yes, in the same price range please. <br> **system:** Worth House in the North is 4 stars and cheap. Would you like to try it? <br> **user:** The amount of stars does not matter as long as it is in the same price range. Does Worth House in the North include free parking and internet? <br> **system:** Okay well I was able to book you at The Worth House and your reference number is 86XVFEUY. <br> **user:** Thanks, that's all I need. Have a nice day. <br> **system:** You are welcome. Also for your reference, the Worth House does have free parking and wifi. May I help you with anything else? <br> **user:** No thanks. Thanks again for your help. <br> **system:** Enjoy your stay! |\n",
    "| **Role-Specific Instructions (System)** | For this dialogue, you are the system. Here is the goal for the system: Do not copy anything from the demonstration. Please do not repeat yourself. Note that you should not make a booking unless the goal explicitly mentions a booking. You can only use the information provided in the chat history. You can only generate one sentence each time. |\n",
    "| **System Version Goal** | The system needs to find a hotel in the cheap price range, with the type specified as \"hotel.\" The hotel must offer free parking and free Wi-Fi. Once a suitable hotel is found, the system should proceed to book it for 6 people for 3 nights, starting from Tuesday. If the booking fails, the system should attempt to book for 2 nights. The system must ensure that the user receives a reference number for the booking. |\n",
    "| **Role-Specific Instructions (User)** | I will be the user. |\n",
    "| **Conversation Termination Conditions** | Please generate a dialogue according to the goal. If you achieve your goal (booking successful or find the hotel), express your thanks and generate **[END]** token. If you think the assistant cannot help you or the conversation falls into an infinite loop, generate **[STOP]** token. |\n",
    "| **Sensitive Information Masking** | Please mask the following information in the generated dialogue: (name of hotel as [hotel name], phone number as [phone number], postcode as [postcode], address of hotel as [address], reference number as [ref]). The output user response should be in the format of \"user:...\". It should be only one sentence. |"
   ]
  },
  {
   "cell_type": "markdown",
   "metadata": {},
   "source": [
    "### E2E Convo. Llama 70B user prompt example"
   ]
  },
  {
   "cell_type": "markdown",
   "metadata": {},
   "source": [
    "| **Components** | **Prompt** |\n",
    "|----------------|------------|\n",
    "| **Task Summary** | Task: Simulate as a user with a particular goal and generate one response to a hotel service system. Response must start with \"user:\". After you achieve all your goals, end the conversation and generate \"[END]\" token. If you think the system cannot help you or the conversation falls into an infinite loop, generate a \"[STOP]\" token. The response must be one line only! |\n",
    "| **Slot and Domain Knowledge for System** | The information you can ask for or provide includes: <br> \"internet\": { \"description\": \"whether the hotel has internet\", \"is_categorical\": true, \"possible_values\": [\"free\", \"no\", \"yes\"] } <br> \"parking\": { \"description\": \"whether the hotel has parking\", \"is_categorical\": true, \"possible_values\": [\"free\", \"no\", \"yes\"] } <br> \"area\": { \"description\": \"area or place of the hotel\", \"is_categorical\": true, \"possible_values\": [\"centre\", \"east\", \"north\", \"south\", \"west\"] } <br> \"stars\": { \"description\": \"star rating of the hotel\", \"is_categorical\": true, \"possible_values\": [\"0\", \"1\", \"2\", \"3\", \"4\", \"5\"] } <br> \"price range\": { \"description\": \"price budget of the hotel\", \"is_categorical\": true, \"possible_values\": [\"expensive\", \"cheap\", \"moderate\"] } <br> \"type\": { \"description\": \"what is the type of the hotel\", \"is_categorical\": true, \"possible_values\": [\"guesthouse\", \"hotel\"] } <br> \"name\": { \"description\": \"name of the hotel\", \"is_categorical\": false, \"possible_values\": [] } <br> \"book people\": { \"description\": \"number of people for the hotel booking\", \"is_categorical\": false, \"possible_values\": [] } <br> \"book stay\": { \"description\": \"length of stay at the hotel\", \"is_categorical\": false, \"possible_values\": [] } <br> \"book day\": { \"description\": \"day of the hotel booking\", \"is_categorical\": true, \"possible_values\": [\"monday\", \"tuesday\", \"wednesday\", \"thursday\", \"friday\", \"saturday\", \"sunday\"] } <br> \"phone\": { \"description\": \"phone number of the hotel\", \"is_categorical\": false, \"possible_values\": [] } <br> \"postcode\": { \"description\": \"postcode of the hotel\", \"is_categorical\": false, \"possible_values\": [] } <br> \"address\": { \"description\": \"address of the hotel\", \"is_categorical\": false, \"possible_values\": [] } <br> \"ref\": { \"description\": \"reference number of the hotel booking\", \"is_categorical\": false, \"possible_values\": [] } <br> \"choice\": { \"description\": \"number of hotels that meet the requirement\", \"is_categorical\": false, \"possible_values\": [] } <br> Information with “mask_token” specified must be replaced by the corresponding token in your response, unless it is provided by the system or in your goal. Do not ask for or provide other information. You do not need to confirm details with the system unless it is ambiguous. |\n",
    "| **Example Dialogue** | Here is a demonstration partial dialogue unrelated to your own goal: <br> **user:** Hello, I'm looking for a guesthouse on the westside to stay. <br> **system:** I am sorry I have no guest houses in the west. Can I look one up in another area for you? <br> **user:** Are there any other places like that that also have free parking and free wifi in that area? <br> **system:** I have found one that is cheap with 4 stars, and one that is moderately priced with 3 stars? Do either of those sound appealing to you? <br> **user:** The cheap one with the better rating sounds appealing. <br> **system:** Great! That's Finches Bed and Breakfast. It's located at 144 Thornton Road cb30nd. Would you like to book a stay? <br> **user:** Please book it for Friday, thank you. <br> **system:** Can you please tell me how many people will be staying and for how many nights? <br> **user:** Yes, 3 people for 5 nights starting on Monday. <br> **system:** Booking was unsuccessful. Want to try another hotel? <br> **user:** Yes, in the same price range please. <br> **system:** Worth House in the North is 4 stars and cheap. Would you like to try it? <br> **user:** The amount of stars does not matter as long as it is in the same price range. Does Worth House in the North include free parking and internet? <br> **system:** Okay well I was able to book you at The Worth House and your reference number is 86XVFEUY. <br> **user:** Thanks, that's all I need. Have a nice day. <br> **system:** You are welcome. Also for your reference, the Worth House does have free parking and wifi. May I help you with anything else? <br> **user:** No thanks. Thanks again for your help. <br> **system:** Enjoy your stay! <br> Do not copy anything from the demonstration! |\n",
    "| **Role-Specific Instructions (User)** | Here is your goal: <br> The user is looking for a place to stay. The hotel should be in the cheap price range and should be in the type of hotel. The hotel should include free parking and should include free wifi. Once the user finds the hotel, the user wants to book it for 6 people and 3 nights starting from Tuesday. If the booking fails, how about 2 nights? Make sure the user gets the reference number. <br> Note that you should not make a booking unless the goal explicitly mentions a booking. Do not ask for or provide information not specified in the goal. If you are looking for a specific hotel that cannot be found, and the goal does not specify an alternative action, end the conversation. |"
   ]
  },
  {
   "cell_type": "markdown",
   "metadata": {},
   "source": [
    "### E2E Convo. Llama 70B system prompt example"
   ]
  },
  {
   "cell_type": "markdown",
   "metadata": {},
   "source": [
    "| **Components** | **Prompt** |\n",
    "|----------------|------------|\n",
    "| **Task Summary** | Task: Simulate as a hotel service system and generate one response to a user. Response must start with \"system:\". If and only if the user has no more queries or generated \"[END]\", end the conversation and generate \"[END]\" token. If you think the conversation falls into an infinite loop, generate a \"[STOP]\" token. |\n",
    "| **Slot and Domain Knowledge for System** | The information you can ask for or provide includes: <br> \"internet\": { \"description\": \"whether the hotel has internet\", \"is_categorical\": true, \"possible_values\": [\"free\", \"no\", \"yes\"] } <br> \"parking\": { \"description\": \"whether the hotel has parking\", \"is_categorical\": true, \"possible_values\": [\"free\", \"no\", \"yes\"] } <br> \"area\": { \"description\": \"area or place of the hotel\", \"is_categorical\": true, \"possible_values\": [\"centre\", \"east\", \"north\", \"south\", \"west\"] } <br> \"stars\": { \"description\": \"star rating of the hotel\", \"is_categorical\": true, \"possible_values\": [\"0\", \"1\", \"2\", \"3\", \"4\", \"5\"] } <br> \"price range\": { \"description\": \"price budget of the hotel\", \"is_categorical\": true, \"possible_values\": [\"expensive\", \"cheap\", \"moderate\"] } <br> \"type\": { \"description\": \"what is the type of the hotel\", \"is_categorical\": true, \"possible_values\": [\"guesthouse\", \"hotel\"] } <br> \"name\": { \"description\": \"name of the hotel\", \"is_categorical\": false, \"possible_values\": [] } <br> \"book people\": { \"description\": \"number of people for the hotel booking\", \"is_categorical\": false, \"possible_values\": [] } <br> \"book stay\": { \"description\": \"length of stay at the hotel\", \"is_categorical\": false, \"possible_values\": [] } <br> \"book day\": { \"description\": \"day of the hotel booking\", \"is_categorical\": true, \"possible_values\": [\"monday\", \"tuesday\", \"wednesday\", \"thursday\", \"friday\", \"saturday\", \"sunday\"] } <br> \"phone\": { \"description\": \"phone number of the hotel\", \"is_categorical\": false, \"possible_values\": [] } <br> \"postcode\": { \"description\": \"postcode of the hotel\", \"is_categorical\": false, \"possible_values\": [] } <br> \"address\": { \"description\": \"address of the hotel\", \"is_categorical\": false, \"possible_values\": [] } <br> \"ref\": { \"description\": \"reference number of the hotel booking\", \"is_categorical\": false, \"possible_values\": [] } <br> \"choice\": { \"description\": \"number of hotels that meet the requirement\", \"is_categorical\": false, \"possible_values\": [] } <br> Information with “mask_token” specified must be replaced by the corresponding token in your response, unless it is provided by the system or in your goal. Do not ask for or provide other information. You do not need to confirm details with the system unless it is ambiguous. |\n",
    "| **Example Dialogue** | Here is a demonstration partial dialogue unrelated to your own goal: <br> **user:** Hello, I'm looking for a guesthouse on the westside to stay. <br> **system:** I am sorry I have no guest houses in the west. Can I look one up in another area for you? <br> **user:** Are there any other places like that that also have free parking and free wifi in that area? <br> **system:** I have found one that is cheap with 4 stars, and one that is moderately priced with 3 stars? Do either of those sound appealing to you? <br> **user:** The cheap one with the better rating sounds appealing. <br> **system:** Great! That's Finches Bed and Breakfast. It's located at 144 Thornton Road cb30nd. Would you like to book a stay? <br> **user:** Please book it for Friday, thank you. <br> **system:** Can you please tell me how many people will be staying and for how many nights? <br> **user:** Yes, 3 people for 5 nights starting on Monday. <br> **system:** Booking was unsuccessful. Want to try another hotel? <br> **user:** Yes, in the same price range please. <br> **system:** Worth House in the North is 4 stars and cheap. Would you like to try it? <br> **user:** The amount of stars does not matter as long as it is in the same price range. Does Worth House in the North include free parking and internet? <br> **system:** Okay well I was able to book you at The Worth House and your reference number is 86XVFEUY. <br> **user:** Thanks, that's all I need. Have a nice day. <br> **system:** You are welcome. Also for your reference, the Worth House does have free parking and wifi. May I help you with anything else? <br> **user:** No thanks. Thanks again for your help. <br> **system:** Enjoy your stay! <br> Do not copy anything from the demonstration! |"
   ]
  }
 ],
 "metadata": {
  "language_info": {
   "name": "python"
  }
 },
 "nbformat": 4,
 "nbformat_minor": 2
}
